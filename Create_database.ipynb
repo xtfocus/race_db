{
 "cells": [
  {
   "attachments": {
    "image.png": {
     "image/png": "[encoded data removed]"
    }
   },
   "cell_type": "markdown",
   "metadata": {},
   "source": [
    "![image.png](attachment:image.png)"
   ]
  },
  {
   "cell_type": "markdown",
   "metadata": {},
   "source": [
    "# Define"
   ]
  },
  {
   "cell_type": "code",
   "execution_count": 72,
   "metadata": {},
   "outputs": [
    {
     "data": {
      "text/plain": [
       "<sqlite3.Cursor at 0x7f6d3533b490>"
      ]
     },
     "execution_count": 72,
     "metadata": {},
     "output_type": "execute_result"
    }
   ],
   "source": [
    "import sqlite3\n",
    "conn = sqlite3.connect('RacingDB.db')\n",
    "conn.execute(\"PRAGMA foreign_keys = 1\")"
   ]
  },
  {
   "cell_type": "code",
   "execution_count": 73,
   "metadata": {},
   "outputs": [],
   "source": [
    "c = conn.cursor()"
   ]
  },
  {
   "cell_type": "code",
   "execution_count": 74,
   "metadata": {},
   "outputs": [
    {
     "data": {
      "text/plain": [
       "<sqlite3.Cursor at 0x7f6d3551aa40>"
      ]
     },
     "execution_count": 74,
     "metadata": {},
     "output_type": "execute_result"
    }
   ],
   "source": [
    "# create table RACE_TYPE\n",
    "c.execute('''\n",
    "    CREATE TABLE RACE_TYPE(\n",
    "        Type text PRIMARY KEY\n",
    "    )\n",
    "''')"
   ]
  },
  {
   "cell_type": "code",
   "execution_count": 75,
   "metadata": {},
   "outputs": [
    {
     "data": {
      "text/plain": [
       "<sqlite3.Cursor at 0x7f6d3551aa40>"
      ]
     },
     "execution_count": 75,
     "metadata": {},
     "output_type": "execute_result"
    }
   ],
   "source": [
    "# create table VENUE\n",
    "c.execute('''\n",
    "    CREATE TABLE VENUE(\n",
    "        Venue text PRIMARY KEY\n",
    "    )\n",
    "''')"
   ]
  },
  {
   "cell_type": "code",
   "execution_count": 76,
   "metadata": {},
   "outputs": [
    {
     "data": {
      "text/plain": [
       "<sqlite3.Cursor at 0x7f6d3551aa40>"
      ]
     },
     "execution_count": 76,
     "metadata": {},
     "output_type": "execute_result"
    }
   ],
   "source": [
    "# create table RACE\n",
    "c.execute('''\n",
    "    CREATE TABLE RACE(\n",
    "        R_num number PRIMARY KEY,\n",
    "        \n",
    "        Type text,\n",
    "        Venue text,\n",
    "        R_name text,\n",
    "        R_start_time date,\n",
    "        FOREIGN KEY (Type) REFERENCES RACE_TYPE (Type),\n",
    "        FOREIGN KEY (Venue) REFERENCES VENUE (Venue)\n",
    "    )\n",
    "''')"
   ]
  },
  {
   "cell_type": "code",
   "execution_count": 77,
   "metadata": {},
   "outputs": [],
   "source": [
    "conn.commit()"
   ]
  },
  {
   "cell_type": "markdown",
   "metadata": {},
   "source": [
    "# Insert"
   ]
  },
  {
   "cell_type": "code",
   "execution_count": 78,
   "metadata": {},
   "outputs": [],
   "source": [
    "import pandas as pd"
   ]
  },
  {
   "cell_type": "code",
   "execution_count": 79,
   "metadata": {},
   "outputs": [],
   "source": [
    "read_race_type = pd.read_csv(r'race_type.csv')\n",
    "read_race_type.to_sql('RACE_TYPE', conn, if_exists='replace', index=False)\n",
    "\n",
    "read_venue = pd.read_csv(r'venue.csv')\n",
    "read_venue.to_sql('VENUE', conn, if_exists='replace', index=False)"
   ]
  },
  {
   "cell_type": "code",
   "execution_count": 131,
   "metadata": {},
   "outputs": [],
   "source": [
    "read_race = pd.read_csv(r'race.csv')\n",
    "\n",
    "read_race['R_start_time'] = pd.to_datetime(read_race['R_start_time'], \n",
    "                                           format='%d/%m/%Y %H:%M')\n",
    "\n",
    "read_race.to_sql('RACE', conn, if_exists='replace', index=False)"
   ]
  },
  {
   "cell_type": "code",
   "execution_count": 132,
   "metadata": {},
   "outputs": [
    {
     "data": {
      "text/plain": [
       "R_num                    int64\n",
       "Type                    object\n",
       "Venue                   object\n",
       "R_name                  object\n",
       "R_start_time    datetime64[ns]\n",
       "dtype: object"
      ]
     },
     "execution_count": 132,
     "metadata": {},
     "output_type": "execute_result"
    }
   ],
   "source": [
    "read_race.dtypes"
   ]
  },
  {
   "cell_type": "code",
   "execution_count": 133,
   "metadata": {},
   "outputs": [],
   "source": [
    "conn.commit()"
   ]
  },
  {
   "cell_type": "code",
   "execution_count": 134,
   "metadata": {},
   "outputs": [
    {
     "data": {
      "text/plain": [
       "[('2020 12 21',),\n",
       " ('2020 12 22',),\n",
       " ('2020 12 23',),\n",
       " ('2020 12 23',),\n",
       " ('2020 12 25',),\n",
       " ('2020 12 26',),\n",
       " ('2020 12 26',),\n",
       " ('2020 12 26',),\n",
       " ('2020 12 29',),\n",
       " ('2020 12 29',),\n",
       " ('2020 12 29',),\n",
       " ('2021 01 01',),\n",
       " ('2021 01 01',),\n",
       " ('2021 01 01',)]"
      ]
     },
     "execution_count": 134,
     "metadata": {},
     "output_type": "execute_result"
    }
   ],
   "source": [
    "c.execute(\n",
    "'''\n",
    "SELECT strftime('%Y %m %d', R_start_time) from Race\n",
    "\n",
    "'''\n",
    ").fetchall()"
   ]
  },
  {
   "cell_type": "code",
   "execution_count": null,
   "metadata": {},
   "outputs": [],
   "source": []
  }
 ],
 "metadata": {
  "kernelspec": {
   "display_name": "big",
   "language": "python",
   "name": "big"
  },
  "language_info": {
   "codemirror_mode": {
    "name": "ipython",
    "version": 3
   },
   "file_extension": ".py",
   "mimetype": "text/x-python",
   "name": "python",
   "nbconvert_exporter": "python",
   "pygments_lexer": "ipython3",
   "version": "3.7.6"
  },
  "toc": {
   "base_numbering": 1,
   "nav_menu": {},
   "number_sections": true,
   "sideBar": true,
   "skip_h1_title": false,
   "title_cell": "Table of Contents",
   "title_sidebar": "Contents",
   "toc_cell": false,
   "toc_position": {},
   "toc_section_display": true,
   "toc_window_display": false
  }
 },
 "nbformat": 4,
 "nbformat_minor": 4
}
