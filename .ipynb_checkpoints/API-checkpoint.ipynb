{
 "cells": [
  {
   "cell_type": "code",
   "execution_count": 1,
   "metadata": {},
   "outputs": [],
   "source": [
    "from flask import Flask, request\n",
    "from flask_restful import Resource, Api\n",
    "from sqlalchemy import create_engine\n",
    "from json import dumps\n",
    "from flask_jsonpify import jsonify"
   ]
  },
  {
   "cell_type": "code",
   "execution_count": 2,
   "metadata": {
    "scrolled": true
   },
   "outputs": [
    {
     "name": "stdout",
     "output_type": "stream",
     "text": [
      " * Serving Flask app \"__main__\" (lazy loading)\n",
      " * Environment: production\n",
      "\u001b[31m   WARNING: This is a development server. Do not use it in a production deployment.\u001b[0m\n",
      "\u001b[2m   Use a production WSGI server instead.\u001b[0m\n",
      " * Debug mode: off\n"
     ]
    },
    {
     "name": "stderr",
     "output_type": "stream",
     "text": [
      " * Running on http://127.0.0.1:5002/ (Press CTRL+C to quit)\n",
      "127.0.0.1 - - [06/Jan/2021 22:37:57] \"\u001b[37mGET /byType/Next+to+jump HTTP/1.1\u001b[0m\" 200 -\n"
     ]
    }
   ],
   "source": [
    "db_connect = create_engine('sqlite:///RacingDB.db')\n",
    "app = Flask(__name__)\n",
    "api = Api(app)\n",
    "\n",
    "class RaceType(Resource):\n",
    "    \"\"\"\n",
    "    Define a route to return races by type\n",
    "    \"\"\"\n",
    "    def get(self, r_type='Next+to+jump'):\n",
    "        r_type = r_type.replace('+', ' ') # handle spaces\n",
    "        conn = db_connect.connect() # connect to database\n",
    "        query = conn.execute(f\"select * from Race where type = '{r_type}'\") # This line performs query and returns json result\n",
    "        return {'Races': query.cursor.fetchall()} \n",
    "\n",
    "api.add_resource(RaceType, '/byType/<r_type>') # Route_1\n",
    "\n",
    "if __name__ == '__main__':\n",
    "     app.run(port='5002')"
   ]
  }
 ],
 "metadata": {
  "kernelspec": {
   "display_name": "big",
   "language": "python",
   "name": "big"
  },
  "language_info": {
   "codemirror_mode": {
    "name": "ipython",
    "version": 3
   },
   "file_extension": ".py",
   "mimetype": "text/x-python",
   "name": "python",
   "nbconvert_exporter": "python",
   "pygments_lexer": "ipython3",
   "version": "3.7.6"
  },
  "toc": {
   "base_numbering": 1,
   "nav_menu": {},
   "number_sections": true,
   "sideBar": true,
   "skip_h1_title": false,
   "title_cell": "Table of Contents",
   "title_sidebar": "Contents",
   "toc_cell": false,
   "toc_position": {},
   "toc_section_display": true,
   "toc_window_display": false
  }
 },
 "nbformat": 4,
 "nbformat_minor": 4
}
